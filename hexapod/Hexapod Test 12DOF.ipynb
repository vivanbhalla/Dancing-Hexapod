{
 "cells": [
  {
   "cell_type": "code",
   "execution_count": null,
   "metadata": {},
   "outputs": [],
   "source": [
    "import time\n",
    "import yaml"
   ]
  },
  {
   "cell_type": "code",
   "execution_count": null,
   "metadata": {},
   "outputs": [],
   "source": [
    "# Import hexapod class\n",
    "from hexapod import Hexapod_12DOF"
   ]
  },
  {
   "cell_type": "code",
   "execution_count": null,
   "metadata": {},
   "outputs": [],
   "source": [
    "# Read config file\n",
    "# config_file = 'config.yaml'\n",
    "# config_file = 'config_2.yaml'\n",
    "config_file = 'config_12DOF.yaml'\n",
    "with open(config_file) as f:\n",
    "    my_config = yaml.load(f)"
   ]
  },
  {
   "cell_type": "code",
   "execution_count": null,
   "metadata": {},
   "outputs": [],
   "source": [
    "# Initialize Hexapod with config dictionary\n",
    "my_hexapod = Hexapod_12DOF(my_config)"
   ]
  },
  {
   "cell_type": "code",
   "execution_count": null,
   "metadata": {},
   "outputs": [],
   "source": [
    "my_hexapod.lower_height()"
   ]
  },
  {
   "cell_type": "code",
   "execution_count": null,
   "metadata": {},
   "outputs": [],
   "source": [
    "my_hexapod.raise_height()"
   ]
  },
  {
   "cell_type": "code",
   "execution_count": null,
   "metadata": {},
   "outputs": [],
   "source": [
    "# Test/Initialize all servos\n",
    "\n",
    "# Lift all legs down and up\n",
    "my_hexapod.move_all_legs(raise_value=0)\n",
    "time.sleep(1)\n",
    "my_hexapod.move_all_legs(raise_value=100)\n",
    "time.sleep(1)\n",
    "my_hexapod.move_all_legs(raise_value=0)\n",
    "\n",
    "time.sleep(1)\n",
    "\n",
    "# Sweep all legs forward and back\n",
    "my_hexapod.move_all_legs(rotate_value=100)\n",
    "time.sleep(1)\n",
    "my_hexapod.move_all_legs(rotate_value=0)\n",
    "time.sleep(1)\n",
    "my_hexapod.move_all_legs(rotate_value=100)\n"
   ]
  },
  {
   "cell_type": "code",
   "execution_count": null,
   "metadata": {},
   "outputs": [],
   "source": [
    "for i in range(3):\n",
    "    my_hexapod.right_left_right_step()\n",
    "    my_hexapod.left_right_left_step()"
   ]
  },
  {
   "cell_type": "code",
   "execution_count": null,
   "metadata": {},
   "outputs": [],
   "source": [
    "for i in range(3):\n",
    "    my_hexapod.right_left_right_step_back()\n",
    "    my_hexapod.left_right_left_step_back()"
   ]
  },
  {
   "cell_type": "code",
   "execution_count": null,
   "metadata": {},
   "outputs": [],
   "source": [
    "for i in range(6):\n",
    "    my_hexapod.turn_left()"
   ]
  },
  {
   "cell_type": "code",
   "execution_count": null,
   "metadata": {},
   "outputs": [],
   "source": [
    "for i in range(6):\n",
    "    my_hexapod.turn_right()"
   ]
  },
  {
   "cell_type": "code",
   "execution_count": null,
   "metadata": {},
   "outputs": [],
   "source": [
    "# front dancing legs\n",
    "my_hexapod.reposition_center_legs(0)\n",
    "my_hexapod.move_center_legs(raise_value=100)\n",
    "my_hexapod.front_leg_dancing(step=1)\n",
    "my_hexapod.front_leg_dancing(step=2)"
   ]
  },
  {
   "cell_type": "code",
   "execution_count": null,
   "metadata": {},
   "outputs": [],
   "source": [
    "my_hexapod.reposition_center_legs(100)\n",
    "my_hexapod.move_center_legs(raise_value=100)\n",
    "my_hexapod.back_leg_dancing(step=1)\n",
    "my_hexapod.back_leg_dancing(step=2)"
   ]
  },
  {
   "cell_type": "code",
   "execution_count": null,
   "metadata": {},
   "outputs": [],
   "source": [
    "# def left_right_left_step_back(self, time_step=0.2):\n",
    "time_step=0.2\n",
    "\n",
    "# Prep for a step (left-right-left step)\n",
    "my_hexapod.servos['right_front_raise'].move_center()\n",
    "my_hexapod.servos['right_center_raise'].move_center()\n",
    "my_hexapod.servos['right_back_raise'].move_center()\n",
    "my_hexapod.servos['left_front_raise'].move_center()\n",
    "my_hexapod.servos['left_center_raise'].move_center()\n",
    "my_hexapod.servos['left_back_raise'].move_center()\n",
    "\n",
    "time.sleep(time_step)\n",
    "\n",
    "# Lower 3 legs\n",
    "my_hexapod.servos['right_front_raise'].set_position(70)\n",
    "my_hexapod.servos['left_center_raise'].set_position(70)\n",
    "my_hexapod.servos['right_back_raise'].set_position(70)\n",
    "\n",
    "time.sleep(time_step)\n",
    "\n",
    "# Rotate 3 legs back\n",
    "my_hexapod.servos['right_front_rotate'].move_forward()\n",
    "my_hexapod.servos['left_center_rotate'].move_forward()\n",
    "my_hexapod.servos['right_back_rotate'].move_forward()\n",
    "\n",
    "time.sleep(time_step)\n",
    "\n",
    "# Raise 3 legs\n",
    "my_hexapod.servos['right_front_raise'].move_up()\n",
    "my_hexapod.servos['left_center_raise'].move_up()\n",
    "my_hexapod.servos['right_back_raise'].move_up()\n",
    "\n",
    "time.sleep(time_step)\n",
    "\n",
    "# Rotate 3 legs back\n",
    "my_hexapod.servos['right_front_rotate'].move_back()\n",
    "my_hexapod.servos['left_center_rotate'].move_back()\n",
    "my_hexapod.servos['right_back_rotate'].move_back()\n",
    "\n",
    "time.sleep(time_step)\n",
    "\n",
    "# Center 3 legs\n",
    "my_hexapod.servos['right_front_raise'].move_center()\n",
    "my_hexapod.servos['left_center_raise'].move_center()\n",
    "my_hexapod.servos['right_back_raise'].move_center()\n"
   ]
  }
 ],
 "metadata": {
  "kernelspec": {
   "display_name": "Python 3",
   "language": "python",
   "name": "python3"
  },
  "language_info": {
   "codemirror_mode": {
    "name": "ipython",
    "version": 3
   },
   "file_extension": ".py",
   "mimetype": "text/x-python",
   "name": "python",
   "nbconvert_exporter": "python",
   "pygments_lexer": "ipython3",
   "version": "3.5.3"
  }
 },
 "nbformat": 4,
 "nbformat_minor": 2
}
