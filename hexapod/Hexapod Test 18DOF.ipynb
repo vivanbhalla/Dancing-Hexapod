{
 "cells": [
  {
   "cell_type": "code",
   "execution_count": 1,
   "metadata": {},
   "outputs": [],
   "source": [
    "import time\n",
    "import yaml"
   ]
  },
  {
   "cell_type": "code",
   "execution_count": 2,
   "metadata": {},
   "outputs": [],
   "source": [
    "# Import hexapod class\n",
    "from hexapod import Hexapod, Hexapod_18DOF"
   ]
  },
  {
   "cell_type": "code",
   "execution_count": 3,
   "metadata": {},
   "outputs": [],
   "source": [
    "# Read config file\n",
    "# config_file = 'config.yaml'\n",
    "config_file = 'config_18DOF.yaml'\n",
    "with open(config_file) as f:\n",
    "    my_config = yaml.load(f)"
   ]
  },
  {
   "cell_type": "code",
   "execution_count": 4,
   "metadata": {},
   "outputs": [],
   "source": [
    "# Initialize Hexapod with config dictionary\n",
    "my_hexapod = Hexapod_18DOF(my_config)"
   ]
  },
  {
   "cell_type": "code",
   "execution_count": null,
   "metadata": {},
   "outputs": [],
   "source": [
    "# Setup initial state\n",
    "my_hexapod.align_all_legs()\n",
    "my_hexapod.resting_state()\n",
    "my_hexapod.center_all_legs()\n",
    "time.sleep(1)\n",
    "\n",
    "for i in range(3):\n",
    "    # Increase height\n",
    "    my_hexapod.short_from_resting_state()\n",
    "    time.sleep(1)\n",
    "    my_hexapod.square_from_short_state()\n",
    "    time.sleep(1)\n",
    "    my_hexapod.tall_state()\n",
    "    time.sleep(1)\n",
    "\n",
    "    # Decrease height\n",
    "    my_hexapod.square_from_tall_state()\n",
    "    time.sleep(1)\n",
    "    my_hexapod.short_from_square_state()\n",
    "    time.sleep(1)\n",
    "    my_hexapod.resting_state()\n",
    "    time.sleep(1)"
   ]
  },
  {
   "cell_type": "code",
   "execution_count": null,
   "metadata": {},
   "outputs": [],
   "source": [
    "# Flat patterns\n",
    "for i in range(3):\n",
    "    my_hexapod.align_all_legs()\n",
    "    time.sleep(0.5)\n",
    "    my_hexapod.center_all_legs()\n",
    "    time.sleep(0.5)\n",
    "    my_hexapod.spread_all_legs()\n",
    "    time.sleep(0.5)\n",
    "    my_hexapod.center_all_legs()\n",
    "    time.sleep(0.5)\n",
    "    my_hexapod.align_all_legs()\n",
    "    time.sleep(0.5)"
   ]
  },
  {
   "cell_type": "code",
   "execution_count": null,
   "metadata": {},
   "outputs": [],
   "source": [
    "# Rotating movements example\n",
    "my_hexapod.center_all_legs()\n",
    "time.sleep(0.5)\n",
    "\n",
    "my_hexapod.stand()\n",
    "time.sleep(0.5)\n",
    "\n",
    "for i in range(2):\n",
    "    my_hexapod.rotate(right=True)\n",
    "time.sleep(0.5)\n",
    "\n",
    "for i in range(2):\n",
    "    my_hexapod.rotate(right=False)\n",
    "time.sleep(0.5)\n",
    "\n",
    "my_hexapod.sit()\n",
    "time.sleep(0.5)\n",
    "\n",
    "my_hexapod.align_all_legs()"
   ]
  },
  {
   "cell_type": "code",
   "execution_count": null,
   "metadata": {},
   "outputs": [],
   "source": [
    "# Rowing movements example\n",
    "my_hexapod.center_all_legs()\n",
    "time.sleep(0.5)\n",
    "\n",
    "my_hexapod.stand()\n",
    "time.sleep(0.5)\n",
    "\n",
    "for i in range(2):\n",
    "    my_hexapod.row(forward=True)\n",
    "time.sleep(0.5)\n",
    "\n",
    "for i in range(2):\n",
    "    my_hexapod.row(forward=False)\n",
    "time.sleep(0.5)\n",
    "\n",
    "my_hexapod.sit()\n",
    "time.sleep(0.5)\n",
    "\n",
    "my_hexapod.align_all_legs()"
   ]
  },
  {
   "cell_type": "code",
   "execution_count": null,
   "metadata": {},
   "outputs": [],
   "source": [
    "for i in range(2):\n",
    "    my_hexapod.move_left_right_left_uppers(0)\n",
    "    time.sleep(0.5)\n",
    "    my_hexapod.move_right_left_right_uppers(0)\n",
    "    time.sleep(0.5)\n",
    "    \n",
    "    my_hexapod.move_right_left_right_uppers(50)\n",
    "    time.sleep(0.5)\n",
    "    my_hexapod.move_left_right_left_uppers(50)\n",
    "    time.sleep(0.5)\n",
    "    \n",
    "    my_hexapod.move_left_right_left_uppers(100)\n",
    "    time.sleep(0.5)\n",
    "    my_hexapod.move_right_left_right_uppers(100)\n",
    "    time.sleep(0.5)\n",
    "    \n",
    "    my_hexapod.move_right_left_right_uppers(50)\n",
    "    time.sleep(0.5)\n",
    "    my_hexapod.move_left_right_left_uppers(50)\n",
    "    time.sleep(0.5)\n",
    "    \n",
    "my_hexapod.move_left_right_left_uppers(100)\n",
    "time.sleep(0.5)\n",
    "my_hexapod.move_right_left_right_uppers(100)\n",
    "time.sleep(0.5)\n"
   ]
  },
  {
   "cell_type": "code",
   "execution_count": null,
   "metadata": {},
   "outputs": [],
   "source": [
    "for i in range(5):\n",
    "    turn_right(backward=False)"
   ]
  },
  {
   "cell_type": "code",
   "execution_count": null,
   "metadata": {},
   "outputs": [],
   "source": [
    "for i in range(3):\n",
    "    turn_left(backward=True)"
   ]
  },
  {
   "cell_type": "code",
   "execution_count": null,
   "metadata": {},
   "outputs": [],
   "source": [
    "for i in range(4):\n",
    "    my_hexapod.right_left_right_step(backward=True)"
   ]
  },
  {
   "cell_type": "code",
   "execution_count": null,
   "metadata": {},
   "outputs": [],
   "source": [
    "for i in range(4):\n",
    "    my_hexapod.left_right_left_step(backward=True)"
   ]
  },
  {
   "cell_type": "code",
   "execution_count": null,
   "metadata": {},
   "outputs": [],
   "source": [
    "for i in range(4):\n",
    "    if i%2:\n",
    "        my_hexapod.left_right_left_step(backward=False)\n",
    "    else:\n",
    "        my_hexapod.right_left_right_step(backward=False)"
   ]
  },
  {
   "cell_type": "code",
   "execution_count": 7,
   "metadata": {},
   "outputs": [],
   "source": [
    "my_hexapod.front_leg_dancing()"
   ]
  },
  {
   "cell_type": "code",
   "execution_count": 8,
   "metadata": {},
   "outputs": [],
   "source": [
    "my_hexapod.back_leg_dancing()"
   ]
  },
  {
   "cell_type": "code",
   "execution_count": 9,
   "metadata": {},
   "outputs": [],
   "source": [
    "my_hexapod.sit()"
   ]
  },
  {
   "cell_type": "code",
   "execution_count": 10,
   "metadata": {},
   "outputs": [],
   "source": [
    "my_hexapod.align_all_legs()"
   ]
  }
 ],
 "metadata": {
  "kernelspec": {
   "display_name": "Python 3",
   "language": "python",
   "name": "python3"
  },
  "language_info": {
   "codemirror_mode": {
    "name": "ipython",
    "version": 3
   },
   "file_extension": ".py",
   "mimetype": "text/x-python",
   "name": "python",
   "nbconvert_exporter": "python",
   "pygments_lexer": "ipython3",
   "version": "3.5.3"
  }
 },
 "nbformat": 4,
 "nbformat_minor": 2
}
