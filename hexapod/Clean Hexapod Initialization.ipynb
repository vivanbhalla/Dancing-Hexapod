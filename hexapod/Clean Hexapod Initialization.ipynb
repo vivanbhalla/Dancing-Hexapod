{
 "cells": [
  {
   "cell_type": "code",
   "execution_count": 1,
   "metadata": {},
   "outputs": [],
   "source": [
    "import time\n",
    "import yaml"
   ]
  },
  {
   "cell_type": "code",
   "execution_count": 2,
   "metadata": {},
   "outputs": [],
   "source": [
    "# Import hexapod class\n",
    "from hexapod import Hexapod"
   ]
  },
  {
   "cell_type": "code",
   "execution_count": 3,
   "metadata": {},
   "outputs": [],
   "source": [
    "# Read config file\n",
    "with open('config.yaml') as f:\n",
    "    my_config = yaml.load(f)"
   ]
  },
  {
   "cell_type": "code",
   "execution_count": 4,
   "metadata": {},
   "outputs": [],
   "source": [
    "# Initialize Hexapod with config dictionary\n",
    "my_hexapod = Hexapod(my_config)"
   ]
  },
  {
   "cell_type": "code",
   "execution_count": 5,
   "metadata": {},
   "outputs": [],
   "source": [
    "# Initialization Sequence\n",
    "\n",
    "# - Center all rotation\n",
    "my_hexapod.center_all_legs()\n",
    "\n",
    "# - Raise all lowers\n",
    "time.sleep(1)\n",
    "my_hexapod.raise_all_lowers()\n",
    "\n",
    "# - Raise all uppers\n",
    "time.sleep(1)\n",
    "my_hexapod.raise_all_uppers()\n",
    "\n",
    "# - Center all lowers\n",
    "time.sleep(1)\n",
    "my_hexapod.center_all_lowers()\n",
    "\n",
    "# - Raise all lowers\n",
    "time.sleep(1)\n",
    "my_hexapod.raise_all_lowers()\n",
    "\n",
    "\n",
    "# - Lower all uppers\n",
    "time.sleep(1)\n",
    "my_hexapod.lower_all_uppers()\n",
    "\n",
    "# - Raise all uppers\n",
    "time.sleep(1)\n",
    "my_hexapod.raise_all_uppers()"
   ]
  },
  {
   "cell_type": "code",
   "execution_count": null,
   "metadata": {},
   "outputs": [],
   "source": [
    "my_hexapod.servos['right_front_rotate'].move_back()"
   ]
  },
  {
   "cell_type": "code",
   "execution_count": null,
   "metadata": {},
   "outputs": [],
   "source": [
    "my_hexapod.raise_all_lowers()"
   ]
  },
  {
   "cell_type": "code",
   "execution_count": null,
   "metadata": {},
   "outputs": [],
   "source": [
    "my_hexapod.move_all_uppers(0)"
   ]
  },
  {
   "cell_type": "code",
   "execution_count": null,
   "metadata": {},
   "outputs": [],
   "source": [
    "my_hexapod.move_all_lowers(0)"
   ]
  },
  {
   "cell_type": "code",
   "execution_count": null,
   "metadata": {},
   "outputs": [],
   "source": [
    "for i in range(2):\n",
    "    my_hexapod.move_left_right_left_uppers(0)\n",
    "    time.sleep(0.5)\n",
    "    my_hexapod.move_right_left_right_uppers(0)\n",
    "    time.sleep(0.5)\n",
    "    \n",
    "    my_hexapod.move_right_left_right_uppers(50)\n",
    "    time.sleep(0.5)\n",
    "    my_hexapod.move_left_right_left_uppers(50)\n",
    "    time.sleep(0.5)\n",
    "    \n",
    "    my_hexapod.move_left_right_left_uppers(100)\n",
    "    time.sleep(0.5)\n",
    "    my_hexapod.move_right_left_right_uppers(100)\n",
    "    time.sleep(0.5)\n",
    "    \n",
    "    my_hexapod.move_right_left_right_uppers(50)\n",
    "    time.sleep(0.5)\n",
    "    my_hexapod.move_left_right_left_uppers(50)\n",
    "    time.sleep(0.5)\n"
   ]
  },
  {
   "cell_type": "code",
   "execution_count": null,
   "metadata": {},
   "outputs": [],
   "source": [
    "my_hexapod.move_right_left_right_uppers(0)"
   ]
  }
 ],
 "metadata": {
  "kernelspec": {
   "display_name": "Python 3",
   "language": "python",
   "name": "python3"
  },
  "language_info": {
   "codemirror_mode": {
    "name": "ipython",
    "version": 3
   },
   "file_extension": ".py",
   "mimetype": "text/x-python",
   "name": "python",
   "nbconvert_exporter": "python",
   "pygments_lexer": "ipython3",
   "version": "3.5.3"
  }
 },
 "nbformat": 4,
 "nbformat_minor": 2
}
