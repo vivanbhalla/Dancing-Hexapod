{
 "cells": [
  {
   "cell_type": "code",
   "execution_count": 1,
   "metadata": {},
   "outputs": [],
   "source": [
    "import time\n",
    "import yaml"
   ]
  },
  {
   "cell_type": "code",
   "execution_count": 2,
   "metadata": {},
   "outputs": [],
   "source": [
    "# Import hexapod class\n",
    "from hexapod import Hexapod"
   ]
  },
  {
   "cell_type": "code",
   "execution_count": 3,
   "metadata": {},
   "outputs": [],
   "source": [
    "# Read config file\n",
    "with open('config.yaml') as f:\n",
    "    my_config = yaml.load(f)"
   ]
  },
  {
   "cell_type": "code",
   "execution_count": 4,
   "metadata": {},
   "outputs": [],
   "source": [
    "# Initialize Hexapod with config dictionary\n",
    "my_hexapod = Hexapod(my_config)"
   ]
  },
  {
   "cell_type": "code",
   "execution_count": 5,
   "metadata": {},
   "outputs": [],
   "source": [
    "# Initialization Sequence\n",
    "\n",
    "# - Center all rotation\n",
    "my_hexapod.center_all_legs()\n",
    "\n",
    "# - Raise all lowers\n",
    "time.sleep(1)\n",
    "my_hexapod.raise_all_lowers()\n",
    "\n",
    "# - Raise all uppers\n",
    "time.sleep(1)\n",
    "my_hexapod.raise_all_uppers()\n",
    "\n",
    "# - Center all lowers\n",
    "time.sleep(1)\n",
    "my_hexapod.center_all_lowers()\n",
    "\n",
    "# - Raise all lowers\n",
    "time.sleep(1)\n",
    "my_hexapod.raise_all_lowers()\n",
    "\n",
    "\n",
    "# - Lower all uppers\n",
    "time.sleep(1)\n",
    "my_hexapod.lower_all_uppers()\n",
    "\n",
    "# - Raise all uppers\n",
    "time.sleep(1)\n",
    "my_hexapod.raise_all_uppers()"
   ]
  },
  {
   "cell_type": "code",
   "execution_count": null,
   "metadata": {},
   "outputs": [],
   "source": [
    "# start with legs raised\n",
    "my_hexapod.raise_all_legs()"
   ]
  },
  {
   "cell_type": "code",
   "execution_count": null,
   "metadata": {},
   "outputs": [],
   "source": [
    "# start with legs spread\n",
    "my_hexapod.center_all_legs()"
   ]
  },
  {
   "cell_type": "code",
   "execution_count": 6,
   "metadata": {},
   "outputs": [],
   "source": [
    "# start with legs spread\n",
    "my_hexapod.spread_all_legs()"
   ]
  },
  {
   "cell_type": "code",
   "execution_count": 7,
   "metadata": {},
   "outputs": [],
   "source": [
    "# move into standing position\n",
    "my_hexapod.move_all_uppers(75)\n",
    "time.sleep(1)\n",
    "my_hexapod.move_all_lowers(10)\n",
    "time.sleep(1)\n",
    "my_hexapod.move_all_lowers(25)"
   ]
  },
  {
   "cell_type": "code",
   "execution_count": 8,
   "metadata": {},
   "outputs": [],
   "source": [
    "def rotate(right=True):\n",
    "    sleep_time = 0.5\n",
    "    # Raise the center legs\n",
    "    my_hexapod.servos['left_center_lower'].set_position(0)\n",
    "    my_hexapod.servos['right_center_lower'].set_position(0)\n",
    "\n",
    "    time.sleep(sleep_time)\n",
    "\n",
    "    # position center legs for rotation\n",
    "    if right:\n",
    "        my_hexapod.servos['left_center_rotate'].move_forward()\n",
    "        my_hexapod.servos['right_center_rotate'].move_back()\n",
    "    else:\n",
    "        my_hexapod.servos['left_center_rotate'].move_back()\n",
    "        my_hexapod.servos['right_center_rotate'].move_forward()\n",
    "\n",
    "    time.sleep(sleep_time)\n",
    "\n",
    "    # Drop center legs to control rotation\n",
    "    my_hexapod.servos['left_center_lower'].set_position(40)\n",
    "    my_hexapod.servos['right_center_lower'].set_position(40)\n",
    "\n",
    "    time.sleep(sleep_time)\n",
    "\n",
    "    # position center legs for rotation\n",
    "    if right:\n",
    "        my_hexapod.servos['left_center_rotate'].move_back()\n",
    "        my_hexapod.servos['right_center_rotate'].move_forward()\n",
    "    else:\n",
    "        my_hexapod.servos['left_center_rotate'].move_forward()\n",
    "        my_hexapod.servos['right_center_rotate'].move_back()\n",
    "\n",
    "    time.sleep(sleep_time)\n",
    "\n",
    "    # raise the middle legs to re-center\n",
    "    my_hexapod.servos['left_center_lower'].set_position(0)\n",
    "    my_hexapod.servos['right_center_lower'].set_position(0)\n",
    "\n",
    "    time.sleep(sleep_time)\n",
    "\n",
    "    # center the middle legs\n",
    "    my_hexapod.servos['left_center_rotate'].move_center()\n",
    "    my_hexapod.servos['right_center_rotate'].move_center()\n",
    "\n",
    "    time.sleep(sleep_time)\n",
    "\n",
    "    # reset the center legs to prep for next movement\n",
    "    my_hexapod.servos['left_center_lower'].set_position(30)\n",
    "    my_hexapod.servos['right_center_lower'].set_position(30)"
   ]
  },
  {
   "cell_type": "code",
   "execution_count": 15,
   "metadata": {},
   "outputs": [],
   "source": [
    "for i in range(3):\n",
    "    rotate(right=True)"
   ]
  },
  {
   "cell_type": "code",
   "execution_count": null,
   "metadata": {},
   "outputs": [],
   "source": [
    "    # Raise the center legs\n",
    "    my_hexapod.servos['left_center_lower'].set_position(0)\n",
    "    my_hexapod.servos['right_center_lower'].set_position(0)\n",
    "    time.sleep(sleep_time)\n",
    "\n",
    "    # center the middle legs\n",
    "    my_hexapod.servos['left_center_rotate'].move_forward()\n",
    "    my_hexapod.servos['right_center_rotate'].move_forward()\n",
    "\n",
    "    time.sleep(sleep_time)\n",
    "\n",
    "    # reset the center legs to prep for next movement\n",
    "    my_hexapod.servos['left_center_lower'].set_position(30)\n",
    "    my_hexapod.servos['right_center_lower'].set_position(30)"
   ]
  },
  {
   "cell_type": "code",
   "execution_count": 12,
   "metadata": {},
   "outputs": [],
   "source": [
    "def row(forward=True):\n",
    "    # forward = True\n",
    "    sleep_time = 0.5\n",
    "    \n",
    "    # Raise the center legs\n",
    "    my_hexapod.servos['left_center_lower'].set_position(0)\n",
    "    my_hexapod.servos['right_center_lower'].set_position(0)\n",
    "    \n",
    "    time.sleep(sleep_time)\n",
    "\n",
    "    # center the middle legs\n",
    "    if forward:\n",
    "        my_hexapod.servos['left_center_rotate'].move_forward()\n",
    "        my_hexapod.servos['right_center_rotate'].move_forward()\n",
    "    else:\n",
    "        my_hexapod.servos['left_center_rotate'].move_back()\n",
    "        my_hexapod.servos['right_center_rotate'].move_back()\n",
    "        \n",
    "    time.sleep(sleep_time)\n",
    "\n",
    "    # plant legs for movement movement\n",
    "    my_hexapod.servos['left_center_lower'].set_position(40)\n",
    "    my_hexapod.servos['right_center_lower'].set_position(40)\n",
    "    \n",
    "    time.sleep(sleep_time)    \n",
    "    \n",
    "    # row the center legs\n",
    "    if forward:\n",
    "        my_hexapod.servos['left_center_rotate'].move_back()\n",
    "        my_hexapod.servos['right_center_rotate'].move_back()\n",
    "    else:\n",
    "        my_hexapod.servos['left_center_rotate'].move_forward()\n",
    "        my_hexapod.servos['right_center_rotate'].move_forward()\n",
    "        \n",
    "    time.sleep(sleep_time)\n",
    "    \n",
    "    # raise legs\n",
    "    my_hexapod.servos['left_center_lower'].set_position(0)\n",
    "    my_hexapod.servos['right_center_lower'].set_position(0)\n",
    "    \n",
    "    time.sleep(sleep_time)\n",
    "    \n",
    "    # center legs\n",
    "    my_hexapod.servos['left_center_rotate'].move_center()\n",
    "    my_hexapod.servos['right_center_rotate'].move_center()\n",
    "    \n",
    "    time.sleep(sleep_time)\n",
    "    \n",
    "    # reset legs\n",
    "    my_hexapod.servos['left_center_lower'].set_position(30)\n",
    "    my_hexapod.servos['right_center_lower'].set_position(30)"
   ]
  },
  {
   "cell_type": "code",
   "execution_count": 14,
   "metadata": {},
   "outputs": [],
   "source": [
    "row(forward=False)"
   ]
  },
  {
   "cell_type": "code",
   "execution_count": null,
   "metadata": {},
   "outputs": [],
   "source": [
    "# sit from standing position\n",
    "my_hexapod.move_all_lowers(25)\n",
    "time.sleep(1)\n",
    "my_hexapod.move_all_lowers(10)\n",
    "time.sleep(1)\n",
    "my_hexapod.move_all_lowers(0)\n",
    "time.sleep(1)\n",
    "my_hexapod.move_all_uppers(75)\n",
    "time.sleep(1)\n",
    "my_hexapod.move_all_uppers(0)"
   ]
  },
  {
   "cell_type": "code",
   "execution_count": null,
   "metadata": {},
   "outputs": [],
   "source": [
    "my_hexapod.servos['left_center_lower'].set_position(30)"
   ]
  },
  {
   "cell_type": "code",
   "execution_count": null,
   "metadata": {},
   "outputs": [],
   "source": [
    "my_hexapod.servos['right_center_lower'].set_position(25)"
   ]
  },
  {
   "cell_type": "code",
   "execution_count": null,
   "metadata": {},
   "outputs": [],
   "source": [
    "my_hexapod.move_right_left_right_lowers(25)"
   ]
  },
  {
   "cell_type": "code",
   "execution_count": null,
   "metadata": {},
   "outputs": [],
   "source": [
    "my_hexapod.move_left_right_left_lowers(25)"
   ]
  },
  {
   "cell_type": "code",
   "execution_count": null,
   "metadata": {},
   "outputs": [],
   "source": [
    "my_hexapod.move_all_lowers(50)"
   ]
  },
  {
   "cell_type": "code",
   "execution_count": null,
   "metadata": {},
   "outputs": [],
   "source": [
    "for i in range(2):\n",
    "    my_hexapod.move_left_right_left_uppers(0)\n",
    "    time.sleep(0.5)\n",
    "    my_hexapod.move_right_left_right_uppers(0)\n",
    "    time.sleep(0.5)\n",
    "    \n",
    "    my_hexapod.move_right_left_right_uppers(50)\n",
    "    time.sleep(0.5)\n",
    "    my_hexapod.move_left_right_left_uppers(50)\n",
    "    time.sleep(0.5)\n",
    "    \n",
    "    my_hexapod.move_left_right_left_uppers(100)\n",
    "    time.sleep(0.5)\n",
    "    my_hexapod.move_right_left_right_uppers(100)\n",
    "    time.sleep(0.5)\n",
    "    \n",
    "    my_hexapod.move_right_left_right_uppers(50)\n",
    "    time.sleep(0.5)\n",
    "    my_hexapod.move_left_right_left_uppers(50)\n",
    "    time.sleep(0.5)\n"
   ]
  },
  {
   "cell_type": "code",
   "execution_count": null,
   "metadata": {},
   "outputs": [],
   "source": [
    "my_hexapod.move_right_left_right_uppers(0)"
   ]
  }
 ],
 "metadata": {
  "kernelspec": {
   "display_name": "Python 3",
   "language": "python",
   "name": "python3"
  },
  "language_info": {
   "codemirror_mode": {
    "name": "ipython",
    "version": 3
   },
   "file_extension": ".py",
   "mimetype": "text/x-python",
   "name": "python",
   "nbconvert_exporter": "python",
   "pygments_lexer": "ipython3",
   "version": "3.5.3"
  }
 },
 "nbformat": 4,
 "nbformat_minor": 2
}
