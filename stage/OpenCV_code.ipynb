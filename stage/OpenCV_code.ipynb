{
 "cells": [
  {
   "cell_type": "code",
   "execution_count": 1,
   "metadata": {},
   "outputs": [
    {
     "ename": "ImportError",
     "evalue": "No module named 'cv2'",
     "output_type": "error",
     "traceback": [
      "\u001b[0;31m---------------------------------------------------------------------------\u001b[0m",
      "\u001b[0;31mImportError\u001b[0m                               Traceback (most recent call last)",
      "\u001b[0;32m<ipython-input-1-70da4b8cf89b>\u001b[0m in \u001b[0;36m<module>\u001b[0;34m()\u001b[0m\n\u001b[1;32m      6\u001b[0m \u001b[0;31m### Import the libraries ####\u001b[0m\u001b[0;34m\u001b[0m\u001b[0;34m\u001b[0m\u001b[0m\n\u001b[1;32m      7\u001b[0m \u001b[0;32mimport\u001b[0m \u001b[0mnumpy\u001b[0m \u001b[0;32mas\u001b[0m \u001b[0mnp\u001b[0m\u001b[0;34m\u001b[0m\u001b[0m\n\u001b[0;32m----> 8\u001b[0;31m \u001b[0;32mimport\u001b[0m \u001b[0mcv2\u001b[0m\u001b[0;34m\u001b[0m\u001b[0m\n\u001b[0m",
      "\u001b[0;31mImportError\u001b[0m: No module named 'cv2'"
     ]
    }
   ],
   "source": [
    "#################################################################################################\n",
    "# Made by: Vivan Bhalla\n",
    "# Description: This program is used to detect the object using its color as a parameter \n",
    "#################################################################################################\n",
    "\n",
    "### Import the libraries ####\n",
    "import numpy as np\n",
    "import cv2"
   ]
  },
  {
   "cell_type": "code",
   "execution_count": null,
   "metadata": {},
   "outputs": [],
   "source": [
    "## Create a video capture object\n",
    "cap = cv2.VideoCapture(0) # Send 0 since we have only one camera. Send 1 to use second camera"
   ]
  },
  {
   "cell_type": "code",
   "execution_count": null,
   "metadata": {},
   "outputs": [],
   "source": [
    "## Check whether capture object is opened or not\n",
    "if(cap.isOpened() == False):\n",
    "    ## If object is not initialized then open it\n",
    "    cap.open()"
   ]
  },
  {
   "cell_type": "code",
   "execution_count": null,
   "metadata": {},
   "outputs": [],
   "source": [
    "############################ TODO ######################################\n",
    "## TODO: Remove the trackbars once HSV for the hexapod is configured\n",
    "# Function to be called when trackbars change\n",
    "def nothing(x):\n",
    "    pass # IT simply does nothing"
   ]
  },
  {
   "cell_type": "code",
   "execution_count": null,
   "metadata": {},
   "outputs": [],
   "source": [
    "# Create a window\n",
    "cv2.namedWindow('image')\n",
    "# Create trackbars to select boundary values\n",
    "cv2.createTrackbar('High H','image',0,179,nothing)\n",
    "cv2.createTrackbar('High S','image',0,255,nothing)\n",
    "cv2.createTrackbar('High V','image',0,255,nothing)\n",
    "cv2.createTrackbar('Low H','image',0,179,nothing)\n",
    "cv2.createTrackbar('Low S','image',0,255,nothing)\n",
    "cv2.createTrackbar('Low V','image',0,255,nothing)\n",
    "\n",
    "############################ TODO ######################################"
   ]
  },
  {
   "cell_type": "code",
   "execution_count": null,
   "metadata": {},
   "outputs": [],
   "source": [
    "## Start capturing frame by frame in an infinite loop\n",
    "while(True): \n",
    "\n",
    "    # Start capturing the frames\n",
    "    ret, frame = cap.read() # Get the returned value(T/F) and the frame.\n",
    "\n",
    "    if(ret != True): # Check if reading was successful or not\n",
    "        print(\"Cannot read from the frame\\n\")\n",
    "\n",
    "    ############################ TODO ######################################\n",
    "\n",
    "    # Get the current position of the trackbars\n",
    "    high_h = cv2.getTrackbarPos('High H','image')\n",
    "    high_s = cv2.getTrackbarPos('High S','image')\n",
    "    high_v = cv2.getTrackbarPos('High V','image')\n",
    "    low_h = cv2.getTrackbarPos('Low H','image')\n",
    "    low_s = cv2.getTrackbarPos('Low H','image')\n",
    "    low_v = cv2.getTrackbarPos('Low H','image')\n",
    "\n",
    "    # Create numpy arrays of these boundaries\n",
    "    # TODO: hardcode the values below from what is found through experiment\n",
    "    higher_boundary = np.array([high_h,high_s,high_v])\n",
    "    lower_boundary = np.array([low_h,low_s,low_v])\n",
    "\n",
    "    ############################ TODO ######################################\n",
    "    \n",
    "    # Convert the captured frame from BGR to HSV format\n",
    "    hsv = cv2.cvtColor(frame,cv2.COLOR_BGR2HSV) \n",
    "\n",
    "    # Threshold the HSV image to get only our object\n",
    "    threshold = cv2.inRange(hsv,lower_boundary,higher_boundary)\n",
    "\n",
    "    # Get the targeted image by doing bitwise and\n",
    "    target = cv2.bitwise_and(frame,frame,mask=threshold)\n",
    "\n",
    "    ## Perform morphological transformations #####\n",
    "    ## Morphological opening\n",
    "    # We first remove the white noise from the boundaries of the detected object - Erode operation\n",
    "    # We create an elliptical kernel for the erosion\n",
    "    target = cv2.erode(target,cv2.getStructuringElement(cv2.MORPH_ELLIPSE,(5,5)))\n",
    "\n",
    "    # Perform the dilation to get the more enchanced image of the object\n",
    "    target = cv2.dilate(target,cv2.getStructuringElement(cv2.MORPH_ELLIPSE,(5,5)))\n",
    "\n",
    "    ## Morphological Closing - This is done to fill holes insie the detected object. \n",
    "    ## This is done by first dilation then eroding the image\n",
    "\n",
    "    target = cv2.dilate(target,cv2.getStructuringElement(cv2.MORPH_ELLIPSE,(5,5)))\n",
    "    target = cv2.erode(target,cv2.getStructuringElement(cv2.MORPH_ELLIPSE,(5,5)))\n",
    "\n",
    "    ## Display the images\n",
    "    cv2.imshow(\"Result\",target)\n",
    "    cv2.imshow(\"Mask\",threshold)\n",
    "    cv2.imshow(\"Original Image\",frame)\n",
    "    k = cv2.waitKey(5) & 0xFF\n",
    "    if k == 27:\n",
    "        break\n",
    "\n",
    "\n",
    "\n",
    "# Release the capture\n",
    "cap.release()\n",
    "cv2.destroyAllWindows()"
   ]
  }
 ],
 "metadata": {
  "kernelspec": {
   "display_name": "Python 3",
   "language": "python",
   "name": "python3"
  },
  "language_info": {
   "codemirror_mode": {
    "name": "ipython",
    "version": 3
   },
   "file_extension": ".py",
   "mimetype": "text/x-python",
   "name": "python",
   "nbconvert_exporter": "python",
   "pygments_lexer": "ipython3",
   "version": "3.5.2"
  }
 },
 "nbformat": 4,
 "nbformat_minor": 2
}
